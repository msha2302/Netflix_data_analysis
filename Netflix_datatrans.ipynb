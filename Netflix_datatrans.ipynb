{
 "cells": [
  {
   "cell_type": "code",
   "execution_count": 2,
   "id": "19336097-e09b-487d-a279-259520d79216",
   "metadata": {},
   "outputs": [],
   "source": [
    "import pandas as pd\n",
    "import numpy as np"
   ]
  },
  {
   "cell_type": "code",
   "execution_count": 6,
   "id": "acaedc24-81ba-4eb9-a945-f2d4bd5bb545",
   "metadata": {},
   "outputs": [],
   "source": [
    "df = pd.read_csv(\"Downloads/netflix_titles.csv\")"
   ]
  },
  {
   "cell_type": "code",
   "execution_count": 8,
   "id": "7f7e4724-a3ea-43e3-9db3-e5fca40bf480",
   "metadata": {},
   "outputs": [
    {
     "data": {
      "text/html": [
       "<div>\n",
       "<style scoped>\n",
       "    .dataframe tbody tr th:only-of-type {\n",
       "        vertical-align: middle;\n",
       "    }\n",
       "\n",
       "    .dataframe tbody tr th {\n",
       "        vertical-align: top;\n",
       "    }\n",
       "\n",
       "    .dataframe thead th {\n",
       "        text-align: right;\n",
       "    }\n",
       "</style>\n",
       "<table border=\"1\" class=\"dataframe\">\n",
       "  <thead>\n",
       "    <tr style=\"text-align: right;\">\n",
       "      <th></th>\n",
       "      <th>show_id</th>\n",
       "      <th>type</th>\n",
       "      <th>title</th>\n",
       "      <th>director</th>\n",
       "      <th>cast</th>\n",
       "      <th>country</th>\n",
       "      <th>date_added</th>\n",
       "      <th>release_year</th>\n",
       "      <th>rating</th>\n",
       "      <th>duration</th>\n",
       "      <th>listed_in</th>\n",
       "      <th>description</th>\n",
       "    </tr>\n",
       "  </thead>\n",
       "  <tbody>\n",
       "    <tr>\n",
       "      <th>281</th>\n",
       "      <td>s282</td>\n",
       "      <td>Movie</td>\n",
       "      <td>Brother Jekwu</td>\n",
       "      <td>Charles Uwagbai</td>\n",
       "      <td>Mike Ezuruonye, Juliet Ochienge, Angela Okorie...</td>\n",
       "      <td>Nigeria</td>\n",
       "      <td>August 11, 2021</td>\n",
       "      <td>2016</td>\n",
       "      <td>TV-14</td>\n",
       "      <td>101 min</td>\n",
       "      <td>Comedies, International Movies</td>\n",
       "      <td>Chasing wild success, a village hustler follow...</td>\n",
       "    </tr>\n",
       "    <tr>\n",
       "      <th>4638</th>\n",
       "      <td>s4639</td>\n",
       "      <td>TV Show</td>\n",
       "      <td>Ingobernable</td>\n",
       "      <td>NaN</td>\n",
       "      <td>Kate del Castillo, Eréndira Ibarra, Alberto Gu...</td>\n",
       "      <td>Mexico</td>\n",
       "      <td>September 14, 2018</td>\n",
       "      <td>2018</td>\n",
       "      <td>TV-MA</td>\n",
       "      <td>2 Seasons</td>\n",
       "      <td>Crime TV Shows, International TV Shows, Spanis...</td>\n",
       "      <td>The first lady of Mexico is a woman of convict...</td>\n",
       "    </tr>\n",
       "    <tr>\n",
       "      <th>4506</th>\n",
       "      <td>s4507</td>\n",
       "      <td>Movie</td>\n",
       "      <td>Meghnadbodh Rohoshyo</td>\n",
       "      <td>Anik Datta</td>\n",
       "      <td>Barun Chanda, Sabyasachi Chakraborty</td>\n",
       "      <td>India</td>\n",
       "      <td>October 15, 2018</td>\n",
       "      <td>2017</td>\n",
       "      <td>TV-MA</td>\n",
       "      <td>150 min</td>\n",
       "      <td>Dramas, International Movies</td>\n",
       "      <td>A professor mysteriously vanishes, leaving beh...</td>\n",
       "    </tr>\n",
       "  </tbody>\n",
       "</table>\n",
       "</div>"
      ],
      "text/plain": [
       "     show_id     type                 title         director  \\\n",
       "281     s282    Movie         Brother Jekwu  Charles Uwagbai   \n",
       "4638   s4639  TV Show          Ingobernable              NaN   \n",
       "4506   s4507    Movie  Meghnadbodh Rohoshyo       Anik Datta   \n",
       "\n",
       "                                                   cast  country  \\\n",
       "281   Mike Ezuruonye, Juliet Ochienge, Angela Okorie...  Nigeria   \n",
       "4638  Kate del Castillo, Eréndira Ibarra, Alberto Gu...   Mexico   \n",
       "4506               Barun Chanda, Sabyasachi Chakraborty    India   \n",
       "\n",
       "              date_added  release_year rating   duration  \\\n",
       "281      August 11, 2021          2016  TV-14    101 min   \n",
       "4638  September 14, 2018          2018  TV-MA  2 Seasons   \n",
       "4506    October 15, 2018          2017  TV-MA    150 min   \n",
       "\n",
       "                                              listed_in  \\\n",
       "281                      Comedies, International Movies   \n",
       "4638  Crime TV Shows, International TV Shows, Spanis...   \n",
       "4506                       Dramas, International Movies   \n",
       "\n",
       "                                            description  \n",
       "281   Chasing wild success, a village hustler follow...  \n",
       "4638  The first lady of Mexico is a woman of convict...  \n",
       "4506  A professor mysteriously vanishes, leaving beh...  "
      ]
     },
     "execution_count": 8,
     "metadata": {},
     "output_type": "execute_result"
    }
   ],
   "source": [
    "df.sample(3)\n"
   ]
  },
  {
   "cell_type": "code",
   "execution_count": 9,
   "id": "c3c5a6bd-89de-4206-b3c0-246f68065e04",
   "metadata": {},
   "outputs": [],
   "source": [
    "df.drop([\"show_id\", \"description\"], axis = 1, inplace = True)"
   ]
  },
  {
   "cell_type": "code",
   "execution_count": 10,
   "id": "e0cf70a8-67a0-4a6a-bb80-39eb282cecc7",
   "metadata": {},
   "outputs": [
    {
     "data": {
      "text/html": [
       "<div>\n",
       "<style scoped>\n",
       "    .dataframe tbody tr th:only-of-type {\n",
       "        vertical-align: middle;\n",
       "    }\n",
       "\n",
       "    .dataframe tbody tr th {\n",
       "        vertical-align: top;\n",
       "    }\n",
       "\n",
       "    .dataframe thead th {\n",
       "        text-align: right;\n",
       "    }\n",
       "</style>\n",
       "<table border=\"1\" class=\"dataframe\">\n",
       "  <thead>\n",
       "    <tr style=\"text-align: right;\">\n",
       "      <th></th>\n",
       "      <th>type</th>\n",
       "      <th>title</th>\n",
       "      <th>director</th>\n",
       "      <th>cast</th>\n",
       "      <th>country</th>\n",
       "      <th>date_added</th>\n",
       "      <th>release_year</th>\n",
       "      <th>rating</th>\n",
       "      <th>duration</th>\n",
       "      <th>listed_in</th>\n",
       "    </tr>\n",
       "  </thead>\n",
       "  <tbody>\n",
       "    <tr>\n",
       "      <th>7481</th>\n",
       "      <td>Movie</td>\n",
       "      <td>Mona Lisa Smile</td>\n",
       "      <td>Mike Newell</td>\n",
       "      <td>Julia Roberts, Kirsten Dunst, Julia Stiles, Ma...</td>\n",
       "      <td>United States</td>\n",
       "      <td>January 1, 2019</td>\n",
       "      <td>2003</td>\n",
       "      <td>PG-13</td>\n",
       "      <td>119 min</td>\n",
       "      <td>Dramas</td>\n",
       "    </tr>\n",
       "    <tr>\n",
       "      <th>3951</th>\n",
       "      <td>Movie</td>\n",
       "      <td>Jagat</td>\n",
       "      <td>Shanjey Kumar Perumal</td>\n",
       "      <td>Harvind Raj, Jibrail Rajhula, Tinesh Sarathi K...</td>\n",
       "      <td>Malaysia</td>\n",
       "      <td>April 2, 2019</td>\n",
       "      <td>2015</td>\n",
       "      <td>TV-MA</td>\n",
       "      <td>76 min</td>\n",
       "      <td>Dramas, International Movies</td>\n",
       "    </tr>\n",
       "    <tr>\n",
       "      <th>6573</th>\n",
       "      <td>Movie</td>\n",
       "      <td>Dayveon</td>\n",
       "      <td>Amman Abbasi</td>\n",
       "      <td>Devin Blackmon, Dontrell Bright, Kordell \"KD\" ...</td>\n",
       "      <td>United States</td>\n",
       "      <td>January 11, 2018</td>\n",
       "      <td>2017</td>\n",
       "      <td>TV-MA</td>\n",
       "      <td>76 min</td>\n",
       "      <td>Dramas, Independent Movies</td>\n",
       "    </tr>\n",
       "  </tbody>\n",
       "</table>\n",
       "</div>"
      ],
      "text/plain": [
       "       type            title               director  \\\n",
       "7481  Movie  Mona Lisa Smile            Mike Newell   \n",
       "3951  Movie            Jagat  Shanjey Kumar Perumal   \n",
       "6573  Movie          Dayveon           Amman Abbasi   \n",
       "\n",
       "                                                   cast        country  \\\n",
       "7481  Julia Roberts, Kirsten Dunst, Julia Stiles, Ma...  United States   \n",
       "3951  Harvind Raj, Jibrail Rajhula, Tinesh Sarathi K...       Malaysia   \n",
       "6573  Devin Blackmon, Dontrell Bright, Kordell \"KD\" ...  United States   \n",
       "\n",
       "            date_added  release_year rating duration  \\\n",
       "7481   January 1, 2019          2003  PG-13  119 min   \n",
       "3951     April 2, 2019          2015  TV-MA   76 min   \n",
       "6573  January 11, 2018          2017  TV-MA   76 min   \n",
       "\n",
       "                         listed_in  \n",
       "7481                        Dramas  \n",
       "3951  Dramas, International Movies  \n",
       "6573    Dramas, Independent Movies  "
      ]
     },
     "execution_count": 10,
     "metadata": {},
     "output_type": "execute_result"
    }
   ],
   "source": [
    "df.sample(3)"
   ]
  },
  {
   "cell_type": "code",
   "execution_count": 11,
   "id": "5aa448a6-acfb-45a9-abd1-6010df54db70",
   "metadata": {},
   "outputs": [
    {
     "data": {
      "text/plain": [
       "Index(['type', 'title', 'director', 'cast', 'country', 'date_added',\n",
       "       'release_year', 'rating', 'duration', 'listed_in'],\n",
       "      dtype='object')"
      ]
     },
     "execution_count": 11,
     "metadata": {},
     "output_type": "execute_result"
    }
   ],
   "source": [
    "df.columns"
   ]
  },
  {
   "cell_type": "code",
   "execution_count": 12,
   "id": "34ee6877-9b97-4e02-922d-684a8686d4d5",
   "metadata": {},
   "outputs": [
    {
     "data": {
      "text/plain": [
       "88070"
      ]
     },
     "execution_count": 12,
     "metadata": {},
     "output_type": "execute_result"
    }
   ],
   "source": [
    "df.size"
   ]
  },
  {
   "cell_type": "code",
   "execution_count": 13,
   "id": "de0544c4-0740-4f7a-b57c-e9d98dfd39b0",
   "metadata": {},
   "outputs": [
    {
     "data": {
      "text/plain": [
       "(8807, 10)"
      ]
     },
     "execution_count": 13,
     "metadata": {},
     "output_type": "execute_result"
    }
   ],
   "source": [
    "df.shape"
   ]
  },
  {
   "cell_type": "code",
   "execution_count": 15,
   "id": "44457049-9758-452a-9bb0-b691cdfbd9cf",
   "metadata": {},
   "outputs": [
    {
     "name": "stdout",
     "output_type": "stream",
     "text": [
      "<class 'pandas.core.frame.DataFrame'>\n",
      "RangeIndex: 8807 entries, 0 to 8806\n",
      "Data columns (total 10 columns):\n",
      " #   Column        Non-Null Count  Dtype \n",
      "---  ------        --------------  ----- \n",
      " 0   type          8807 non-null   object\n",
      " 1   title         8807 non-null   object\n",
      " 2   director      6173 non-null   object\n",
      " 3   cast          7982 non-null   object\n",
      " 4   country       7976 non-null   object\n",
      " 5   date_added    8797 non-null   object\n",
      " 6   release_year  8807 non-null   int64 \n",
      " 7   rating        8803 non-null   object\n",
      " 8   duration      8804 non-null   object\n",
      " 9   listed_in     8807 non-null   object\n",
      "dtypes: int64(1), object(9)\n",
      "memory usage: 688.2+ KB\n"
     ]
    }
   ],
   "source": [
    "df.info()"
   ]
  },
  {
   "cell_type": "code",
   "execution_count": 17,
   "id": "b905428e-3377-4bf4-a004-58646a752986",
   "metadata": {},
   "outputs": [
    {
     "data": {
      "text/plain": [
       "type               0\n",
       "title              0\n",
       "director        2634\n",
       "cast             825\n",
       "country          831\n",
       "date_added        10\n",
       "release_year       0\n",
       "rating             4\n",
       "duration           3\n",
       "listed_in          0\n",
       "dtype: int64"
      ]
     },
     "execution_count": 17,
     "metadata": {},
     "output_type": "execute_result"
    }
   ],
   "source": [
    "df.isna().sum()"
   ]
  },
  {
   "cell_type": "code",
   "execution_count": 20,
   "id": "ed6d1360-bfbf-4903-9481-02b07278e1a1",
   "metadata": {},
   "outputs": [
    {
     "data": {
      "text/plain": [
       "country\n",
       "United States     2818\n",
       "India              972\n",
       "United Kingdom     419\n",
       "Japan              245\n",
       "South Korea        199\n",
       "Name: count, dtype: int64"
      ]
     },
     "execution_count": 20,
     "metadata": {},
     "output_type": "execute_result"
    }
   ],
   "source": [
    "df[\"country\"].value_counts().head(5)"
   ]
  },
  {
   "cell_type": "code",
   "execution_count": 30,
   "id": "679628b5-323f-4681-90f4-f4cc08c97e27",
   "metadata": {},
   "outputs": [],
   "source": [
    "mode_country = df[\"country\"].mode()[0]"
   ]
  },
  {
   "cell_type": "code",
   "execution_count": 31,
   "id": "11000027-73bd-4935-be88-24d912855bce",
   "metadata": {},
   "outputs": [
    {
     "data": {
      "text/plain": [
       "'United States'"
      ]
     },
     "execution_count": 31,
     "metadata": {},
     "output_type": "execute_result"
    }
   ],
   "source": [
    "mode_country"
   ]
  },
  {
   "cell_type": "code",
   "execution_count": 32,
   "id": "3ab4d155-2847-4111-83c6-1de896bdb217",
   "metadata": {},
   "outputs": [],
   "source": [
    "df[\"country\"] = df[\"country\"].fillna(mode_country)"
   ]
  },
  {
   "cell_type": "code",
   "execution_count": 33,
   "id": "27ed1870-7244-47ff-8f85-64c15c179181",
   "metadata": {},
   "outputs": [
    {
     "data": {
      "text/plain": [
       "type               0\n",
       "title              0\n",
       "director        2634\n",
       "cast             825\n",
       "country            0\n",
       "date_added        10\n",
       "release_year       0\n",
       "rating             4\n",
       "duration           3\n",
       "listed_in          0\n",
       "dtype: int64"
      ]
     },
     "execution_count": 33,
     "metadata": {},
     "output_type": "execute_result"
    }
   ],
   "source": [
    "df.isna().sum()"
   ]
  },
  {
   "cell_type": "code",
   "execution_count": 34,
   "id": "cde10a68-f65e-49bd-b1e1-7ae4bffad06f",
   "metadata": {},
   "outputs": [
    {
     "data": {
      "text/plain": [
       "date_added\n",
       "January 1, 2020      109\n",
       "November 1, 2019      89\n",
       "March 1, 2018         75\n",
       "December 31, 2019     74\n",
       "October 1, 2018       71\n",
       "Name: count, dtype: int64"
      ]
     },
     "execution_count": 34,
     "metadata": {},
     "output_type": "execute_result"
    }
   ],
   "source": [
    "df[\"date_added\"].value_counts().head(5)"
   ]
  },
  {
   "cell_type": "code",
   "execution_count": 35,
   "id": "d13f7ecf-4df6-442c-8e30-d6060219e294",
   "metadata": {},
   "outputs": [],
   "source": [
    "mode_date = df[\"date_added\"].mode()[0] "
   ]
  },
  {
   "cell_type": "code",
   "execution_count": 36,
   "id": "ee223135-e4f6-42e4-b52f-cef49779e17b",
   "metadata": {},
   "outputs": [
    {
     "data": {
      "text/plain": [
       "'January 1, 2020'"
      ]
     },
     "execution_count": 36,
     "metadata": {},
     "output_type": "execute_result"
    }
   ],
   "source": [
    "mode_date"
   ]
  },
  {
   "cell_type": "code",
   "execution_count": 38,
   "id": "ebc951fb-296e-476d-b4a0-2481234627b3",
   "metadata": {},
   "outputs": [],
   "source": [
    "df[\"date_added\"] = df[\"date_added\"].fillna(mode_date)"
   ]
  },
  {
   "cell_type": "code",
   "execution_count": 41,
   "id": "61464e49-ce22-439b-b3c3-c8d7d44c9141",
   "metadata": {},
   "outputs": [
    {
     "data": {
      "text/plain": [
       "type               0\n",
       "title              0\n",
       "director        2634\n",
       "cast             825\n",
       "country            0\n",
       "date_added         0\n",
       "release_year       0\n",
       "rating             4\n",
       "duration           3\n",
       "listed_in          0\n",
       "dtype: int64"
      ]
     },
     "execution_count": 41,
     "metadata": {},
     "output_type": "execute_result"
    }
   ],
   "source": [
    "df.isna().sum()"
   ]
  },
  {
   "cell_type": "code",
   "execution_count": 42,
   "id": "18397e90-1fdd-4b2e-8cae-8eda224eb2f7",
   "metadata": {},
   "outputs": [],
   "source": [
    "mode_rating = df[\"rating\"].mode()[0]"
   ]
  },
  {
   "cell_type": "code",
   "execution_count": 43,
   "id": "c348af4c-360c-4735-bcf0-b22494c06bf2",
   "metadata": {},
   "outputs": [
    {
     "data": {
      "text/plain": [
       "'TV-MA'"
      ]
     },
     "execution_count": 43,
     "metadata": {},
     "output_type": "execute_result"
    }
   ],
   "source": [
    "mode_rating"
   ]
  },
  {
   "cell_type": "code",
   "execution_count": 44,
   "id": "1d4275c4-b13f-4e1d-994b-c5170f4d3802",
   "metadata": {},
   "outputs": [],
   "source": [
    "df[\"rating\"]= df[\"rating\"].fillna(mode_rating)\n"
   ]
  },
  {
   "cell_type": "code",
   "execution_count": 46,
   "id": "75881477-da20-46bf-8b7f-cbb59b67c31f",
   "metadata": {},
   "outputs": [],
   "source": [
    "mode_duraton = df[\"duration\"].mode()[0]"
   ]
  },
  {
   "cell_type": "code",
   "execution_count": 47,
   "id": "1e4cccfb-3c9c-40b1-8238-93e762a32370",
   "metadata": {},
   "outputs": [],
   "source": [
    "df[\"duration\"] = df[\"duration\"].fillna(mode_rating)"
   ]
  },
  {
   "cell_type": "code",
   "execution_count": 49,
   "id": "36032e99-9109-4914-aaa3-6043158d2a78",
   "metadata": {},
   "outputs": [
    {
     "data": {
      "text/plain": [
       "type               0\n",
       "title              0\n",
       "director        2634\n",
       "cast             825\n",
       "country            0\n",
       "date_added         0\n",
       "release_year       0\n",
       "rating             0\n",
       "duration           0\n",
       "listed_in          0\n",
       "dtype: int64"
      ]
     },
     "execution_count": 49,
     "metadata": {},
     "output_type": "execute_result"
    }
   ],
   "source": [
    "df.isna().sum()"
   ]
  },
  {
   "cell_type": "code",
   "execution_count": 50,
   "id": "248b49d1-03a9-46c5-8828-202c546eac38",
   "metadata": {},
   "outputs": [],
   "source": [
    "df[\"director\"] = df[\"director\"].fillna(\"Not Available\")"
   ]
  },
  {
   "cell_type": "code",
   "execution_count": 51,
   "id": "a6999617-6632-4738-8223-0a567d4fa3f0",
   "metadata": {},
   "outputs": [],
   "source": [
    "df[\"cast\"] = df[\"cast\"].fillna(\"Not Available\")"
   ]
  },
  {
   "cell_type": "code",
   "execution_count": 52,
   "id": "831ecc26-0e07-493e-b8cf-c214dc9f2443",
   "metadata": {},
   "outputs": [
    {
     "data": {
      "text/plain": [
       "type            0\n",
       "title           0\n",
       "director        0\n",
       "cast            0\n",
       "country         0\n",
       "date_added      0\n",
       "release_year    0\n",
       "rating          0\n",
       "duration        0\n",
       "listed_in       0\n",
       "dtype: int64"
      ]
     },
     "execution_count": 52,
     "metadata": {},
     "output_type": "execute_result"
    }
   ],
   "source": [
    "df.isna().sum()"
   ]
  },
  {
   "cell_type": "code",
   "execution_count": 53,
   "id": "7cd2e7bb-464e-4d69-8864-427780198621",
   "metadata": {},
   "outputs": [
    {
     "data": {
      "text/plain": [
       "array(['PG-13', 'TV-MA', 'PG', 'TV-14', 'TV-PG', 'TV-Y', 'TV-Y7', 'R',\n",
       "       'TV-G', 'G', 'NC-17', '74 min', '84 min', '66 min', 'NR',\n",
       "       'TV-Y7-FV', 'UR'], dtype=object)"
      ]
     },
     "execution_count": 53,
     "metadata": {},
     "output_type": "execute_result"
    }
   ],
   "source": [
    "df[\"rating\"].unique()"
   ]
  },
  {
   "cell_type": "code",
   "execution_count": 54,
   "id": "a5e0aa7f-5e18-4719-94e9-ac9ca5a52558",
   "metadata": {},
   "outputs": [
    {
     "name": "stdout",
     "output_type": "stream",
     "text": [
      "<class 'pandas.core.frame.DataFrame'>\n",
      "RangeIndex: 8807 entries, 0 to 8806\n",
      "Data columns (total 10 columns):\n",
      " #   Column        Non-Null Count  Dtype \n",
      "---  ------        --------------  ----- \n",
      " 0   type          8807 non-null   object\n",
      " 1   title         8807 non-null   object\n",
      " 2   director      8807 non-null   object\n",
      " 3   cast          8807 non-null   object\n",
      " 4   country       8807 non-null   object\n",
      " 5   date_added    8807 non-null   object\n",
      " 6   release_year  8807 non-null   int64 \n",
      " 7   rating        8807 non-null   object\n",
      " 8   duration      8807 non-null   object\n",
      " 9   listed_in     8807 non-null   object\n",
      "dtypes: int64(1), object(9)\n",
      "memory usage: 688.2+ KB\n"
     ]
    }
   ],
   "source": [
    "df.info()"
   ]
  },
  {
   "cell_type": "code",
   "execution_count": 55,
   "id": "3cacba29-ca3b-48d1-ada6-effe121c1ec4",
   "metadata": {},
   "outputs": [],
   "source": [
    "df = df[~df[\"rating\"].str.contains(\"min\")]"
   ]
  },
  {
   "cell_type": "code",
   "execution_count": 56,
   "id": "0f2a77ae-6159-4546-a9f2-a5d297434450",
   "metadata": {},
   "outputs": [
    {
     "data": {
      "text/plain": [
       "array(['PG-13', 'TV-MA', 'PG', 'TV-14', 'TV-PG', 'TV-Y', 'TV-Y7', 'R',\n",
       "       'TV-G', 'G', 'NC-17', 'NR', 'TV-Y7-FV', 'UR'], dtype=object)"
      ]
     },
     "execution_count": 56,
     "metadata": {},
     "output_type": "execute_result"
    }
   ],
   "source": [
    "df[\"rating\"].unique()"
   ]
  },
  {
   "cell_type": "code",
   "execution_count": 57,
   "id": "30a06ee7-5c9d-4e1a-897f-930dcca024a4",
   "metadata": {},
   "outputs": [
    {
     "data": {
      "text/plain": [
       "array(['September 25, 2021', 'September 24, 2021', 'September 23, 2021',\n",
       "       ..., 'December 6, 2018', 'March 9, 2016', 'January 11, 2020'],\n",
       "      shape=(1766,), dtype=object)"
      ]
     },
     "execution_count": 57,
     "metadata": {},
     "output_type": "execute_result"
    }
   ],
   "source": [
    "df[\"date_added\"].unique()"
   ]
  },
  {
   "cell_type": "code",
   "execution_count": 59,
   "id": "bdabcd61-6865-4389-b23a-d4e444438a69",
   "metadata": {},
   "outputs": [
    {
     "name": "stderr",
     "output_type": "stream",
     "text": [
      "/var/folders/l5/p_wq1l6j2tb6vp84qnbl9pnm0000gn/T/ipykernel_58256/2988882423.py:1: SettingWithCopyWarning: \n",
      "A value is trying to be set on a copy of a slice from a DataFrame.\n",
      "Try using .loc[row_indexer,col_indexer] = value instead\n",
      "\n",
      "See the caveats in the documentation: https://pandas.pydata.org/pandas-docs/stable/user_guide/indexing.html#returning-a-view-versus-a-copy\n",
      "  df[\"date_added\"] = df[\"date_added\"].str.replace(\",\",\" \")\n"
     ]
    }
   ],
   "source": [
    "df[\"date_added\"] = df[\"date_added\"].str.replace(\",\",\" \")"
   ]
  },
  {
   "cell_type": "code",
   "execution_count": 60,
   "id": "c465ba14-529e-4e30-b62a-b442d408d354",
   "metadata": {},
   "outputs": [
    {
     "data": {
      "text/plain": [
       "array(['September 25 2021', 'September 24 2021', 'September 23 2021', ...,\n",
       "       'December 6 2018', 'March 9 2016', 'January 11 2020'],\n",
       "      shape=(1766,), dtype=object)"
      ]
     },
     "execution_count": 60,
     "metadata": {},
     "output_type": "execute_result"
    }
   ],
   "source": [
    "df[\"date_added\"].unique()"
   ]
  },
  {
   "cell_type": "code",
   "execution_count": 61,
   "id": "5156d6bb-388e-4f06-83f6-d7babee4740f",
   "metadata": {},
   "outputs": [
    {
     "name": "stderr",
     "output_type": "stream",
     "text": [
      "/var/folders/l5/p_wq1l6j2tb6vp84qnbl9pnm0000gn/T/ipykernel_58256/19256588.py:1: SettingWithCopyWarning: \n",
      "A value is trying to be set on a copy of a slice from a DataFrame.\n",
      "Try using .loc[row_indexer,col_indexer] = value instead\n",
      "\n",
      "See the caveats in the documentation: https://pandas.pydata.org/pandas-docs/stable/user_guide/indexing.html#returning-a-view-versus-a-copy\n",
      "  df[\"date_added\"] = pd.to_datetime(df[\"date_added\"], format = \"mixed\")\n"
     ]
    }
   ],
   "source": [
    "df[\"date_added\"] = pd.to_datetime(df[\"date_added\"], format = \"mixed\")"
   ]
  },
  {
   "cell_type": "code",
   "execution_count": 62,
   "id": "4f8a3fea-2845-43af-9fe8-bae0e3b460b9",
   "metadata": {},
   "outputs": [
    {
     "data": {
      "text/plain": [
       "<DatetimeArray>\n",
       "['2021-09-25 00:00:00', '2021-09-24 00:00:00', '2021-09-23 00:00:00',\n",
       " '2021-09-22 00:00:00', '2021-09-21 00:00:00', '2021-09-20 00:00:00',\n",
       " '2021-09-19 00:00:00', '2021-09-17 00:00:00', '2021-09-16 00:00:00',\n",
       " '2021-09-15 00:00:00',\n",
       " ...\n",
       " '2018-09-27 00:00:00', '2017-03-23 00:00:00', '2016-12-25 00:00:00',\n",
       " '2016-11-30 00:00:00', '2017-10-23 00:00:00', '2017-11-04 00:00:00',\n",
       " '2015-08-05 00:00:00', '2018-12-06 00:00:00', '2016-03-09 00:00:00',\n",
       " '2020-01-11 00:00:00']\n",
       "Length: 1714, dtype: datetime64[ns]"
      ]
     },
     "execution_count": 62,
     "metadata": {},
     "output_type": "execute_result"
    }
   ],
   "source": [
    "df[\"date_added\"].unique()"
   ]
  },
  {
   "cell_type": "code",
   "execution_count": 64,
   "id": "c3cb4af2-1f99-4977-b709-ded568555566",
   "metadata": {},
   "outputs": [
    {
     "name": "stderr",
     "output_type": "stream",
     "text": [
      "/var/folders/l5/p_wq1l6j2tb6vp84qnbl9pnm0000gn/T/ipykernel_58256/2580486166.py:1: SettingWithCopyWarning: \n",
      "A value is trying to be set on a copy of a slice from a DataFrame.\n",
      "Try using .loc[row_indexer,col_indexer] = value instead\n",
      "\n",
      "See the caveats in the documentation: https://pandas.pydata.org/pandas-docs/stable/user_guide/indexing.html#returning-a-view-versus-a-copy\n",
      "  df[\"Year\"] = df[\"date_added\"].dt.year\n"
     ]
    }
   ],
   "source": [
    "df[\"Year\"] = df[\"date_added\"].dt.year"
   ]
  },
  {
   "cell_type": "code",
   "execution_count": 65,
   "id": "2b2dcfa9-339e-417b-b227-716b935fead0",
   "metadata": {},
   "outputs": [
    {
     "name": "stderr",
     "output_type": "stream",
     "text": [
      "/var/folders/l5/p_wq1l6j2tb6vp84qnbl9pnm0000gn/T/ipykernel_58256/51735179.py:1: SettingWithCopyWarning: \n",
      "A value is trying to be set on a copy of a slice from a DataFrame.\n",
      "Try using .loc[row_indexer,col_indexer] = value instead\n",
      "\n",
      "See the caveats in the documentation: https://pandas.pydata.org/pandas-docs/stable/user_guide/indexing.html#returning-a-view-versus-a-copy\n",
      "  df[\"Month\"] = df[\"date_added\"].dt.month\n"
     ]
    }
   ],
   "source": [
    "df[\"Month\"] = df[\"date_added\"].dt.month"
   ]
  },
  {
   "cell_type": "code",
   "execution_count": 66,
   "id": "1169cb71-e211-4beb-a442-b34967318823",
   "metadata": {},
   "outputs": [
    {
     "name": "stderr",
     "output_type": "stream",
     "text": [
      "/var/folders/l5/p_wq1l6j2tb6vp84qnbl9pnm0000gn/T/ipykernel_58256/1142234117.py:1: SettingWithCopyWarning: \n",
      "A value is trying to be set on a copy of a slice from a DataFrame.\n",
      "Try using .loc[row_indexer,col_indexer] = value instead\n",
      "\n",
      "See the caveats in the documentation: https://pandas.pydata.org/pandas-docs/stable/user_guide/indexing.html#returning-a-view-versus-a-copy\n",
      "  df[\"Day\"] = df[\"date_added\"].dt.day\n"
     ]
    }
   ],
   "source": [
    "df[\"Day\"] = df[\"date_added\"].dt.day"
   ]
  },
  {
   "cell_type": "code",
   "execution_count": 67,
   "id": "e7d96029-d53e-4907-be1f-5a48fde327e4",
   "metadata": {},
   "outputs": [
    {
     "data": {
      "text/html": [
       "<div>\n",
       "<style scoped>\n",
       "    .dataframe tbody tr th:only-of-type {\n",
       "        vertical-align: middle;\n",
       "    }\n",
       "\n",
       "    .dataframe tbody tr th {\n",
       "        vertical-align: top;\n",
       "    }\n",
       "\n",
       "    .dataframe thead th {\n",
       "        text-align: right;\n",
       "    }\n",
       "</style>\n",
       "<table border=\"1\" class=\"dataframe\">\n",
       "  <thead>\n",
       "    <tr style=\"text-align: right;\">\n",
       "      <th></th>\n",
       "      <th>type</th>\n",
       "      <th>title</th>\n",
       "      <th>director</th>\n",
       "      <th>cast</th>\n",
       "      <th>country</th>\n",
       "      <th>date_added</th>\n",
       "      <th>release_year</th>\n",
       "      <th>rating</th>\n",
       "      <th>duration</th>\n",
       "      <th>listed_in</th>\n",
       "      <th>Year</th>\n",
       "      <th>Month</th>\n",
       "      <th>Day</th>\n",
       "    </tr>\n",
       "  </thead>\n",
       "  <tbody>\n",
       "    <tr>\n",
       "      <th>3160</th>\n",
       "      <td>Movie</td>\n",
       "      <td>Michelle Wolf: Joke Show</td>\n",
       "      <td>Lance Bangs</td>\n",
       "      <td>Michelle Wolf</td>\n",
       "      <td>United States</td>\n",
       "      <td>2019-12-10</td>\n",
       "      <td>2019</td>\n",
       "      <td>TV-MA</td>\n",
       "      <td>60 min</td>\n",
       "      <td>Stand-Up Comedy</td>\n",
       "      <td>2019</td>\n",
       "      <td>12</td>\n",
       "      <td>10</td>\n",
       "    </tr>\n",
       "    <tr>\n",
       "      <th>5349</th>\n",
       "      <td>TV Show</td>\n",
       "      <td>Entangled</td>\n",
       "      <td>Not Available</td>\n",
       "      <td>Thomas Ong, Jack Tan, Margaret Wang, Kate Pang...</td>\n",
       "      <td>South Korea</td>\n",
       "      <td>2017-08-01</td>\n",
       "      <td>2014</td>\n",
       "      <td>TV-14</td>\n",
       "      <td>1 Season</td>\n",
       "      <td>International TV Shows, TV Dramas</td>\n",
       "      <td>2017</td>\n",
       "      <td>8</td>\n",
       "      <td>1</td>\n",
       "    </tr>\n",
       "    <tr>\n",
       "      <th>7176</th>\n",
       "      <td>TV Show</td>\n",
       "      <td>Ken Burns: The Roosevelts: An Intimate History</td>\n",
       "      <td>Ken Burns</td>\n",
       "      <td>Not Available</td>\n",
       "      <td>United States</td>\n",
       "      <td>2017-02-22</td>\n",
       "      <td>2014</td>\n",
       "      <td>TV-PG</td>\n",
       "      <td>1 Season</td>\n",
       "      <td>Docuseries</td>\n",
       "      <td>2017</td>\n",
       "      <td>2</td>\n",
       "      <td>22</td>\n",
       "    </tr>\n",
       "    <tr>\n",
       "      <th>6253</th>\n",
       "      <td>TV Show</td>\n",
       "      <td>Battlefield Recovery</td>\n",
       "      <td>Not Available</td>\n",
       "      <td>Not Available</td>\n",
       "      <td>United Kingdom</td>\n",
       "      <td>2016-08-01</td>\n",
       "      <td>2016</td>\n",
       "      <td>TV-PG</td>\n",
       "      <td>1 Season</td>\n",
       "      <td>British TV Shows, Docuseries, Reality TV</td>\n",
       "      <td>2016</td>\n",
       "      <td>8</td>\n",
       "      <td>1</td>\n",
       "    </tr>\n",
       "    <tr>\n",
       "      <th>8260</th>\n",
       "      <td>Movie</td>\n",
       "      <td>The Cruise</td>\n",
       "      <td>Marek Piwowski</td>\n",
       "      <td>Jan Himilsbach, Stanislaw Tym, Jerzy Dobrowols...</td>\n",
       "      <td>Poland</td>\n",
       "      <td>2019-10-01</td>\n",
       "      <td>1970</td>\n",
       "      <td>TV-PG</td>\n",
       "      <td>66 min</td>\n",
       "      <td>Comedies, Cult Movies, International Movies</td>\n",
       "      <td>2019</td>\n",
       "      <td>10</td>\n",
       "      <td>1</td>\n",
       "    </tr>\n",
       "  </tbody>\n",
       "</table>\n",
       "</div>"
      ],
      "text/plain": [
       "         type                                           title        director  \\\n",
       "3160    Movie                        Michelle Wolf: Joke Show     Lance Bangs   \n",
       "5349  TV Show                                       Entangled   Not Available   \n",
       "7176  TV Show  Ken Burns: The Roosevelts: An Intimate History       Ken Burns   \n",
       "6253  TV Show                            Battlefield Recovery   Not Available   \n",
       "8260    Movie                                      The Cruise  Marek Piwowski   \n",
       "\n",
       "                                                   cast         country  \\\n",
       "3160                                      Michelle Wolf   United States   \n",
       "5349  Thomas Ong, Jack Tan, Margaret Wang, Kate Pang...     South Korea   \n",
       "7176                                      Not Available   United States   \n",
       "6253                                      Not Available  United Kingdom   \n",
       "8260  Jan Himilsbach, Stanislaw Tym, Jerzy Dobrowols...          Poland   \n",
       "\n",
       "     date_added  release_year rating  duration  \\\n",
       "3160 2019-12-10          2019  TV-MA    60 min   \n",
       "5349 2017-08-01          2014  TV-14  1 Season   \n",
       "7176 2017-02-22          2014  TV-PG  1 Season   \n",
       "6253 2016-08-01          2016  TV-PG  1 Season   \n",
       "8260 2019-10-01          1970  TV-PG    66 min   \n",
       "\n",
       "                                        listed_in  Year  Month  Day  \n",
       "3160                              Stand-Up Comedy  2019     12   10  \n",
       "5349            International TV Shows, TV Dramas  2017      8    1  \n",
       "7176                                   Docuseries  2017      2   22  \n",
       "6253     British TV Shows, Docuseries, Reality TV  2016      8    1  \n",
       "8260  Comedies, Cult Movies, International Movies  2019     10    1  "
      ]
     },
     "execution_count": 67,
     "metadata": {},
     "output_type": "execute_result"
    }
   ],
   "source": [
    "df.sample(5)"
   ]
  },
  {
   "cell_type": "code",
   "execution_count": 70,
   "id": "95f627e4-8f47-435d-abb7-fd4f30b9ada9",
   "metadata": {},
   "outputs": [
    {
     "name": "stderr",
     "output_type": "stream",
     "text": [
      "/var/folders/l5/p_wq1l6j2tb6vp84qnbl9pnm0000gn/T/ipykernel_58256/2972914143.py:1: SettingWithCopyWarning: \n",
      "A value is trying to be set on a copy of a slice from a DataFrame.\n",
      "Try using .loc[row_indexer,col_indexer] = value instead\n",
      "\n",
      "See the caveats in the documentation: https://pandas.pydata.org/pandas-docs/stable/user_guide/indexing.html#returning-a-view-versus-a-copy\n",
      "  df[\"genre\"] = df[\"listed_in\"].str.split(\",\").str[0]\n"
     ]
    }
   ],
   "source": [
    "df[\"genre\"] = df[\"listed_in\"].str.split(\",\").str[0]"
   ]
  },
  {
   "cell_type": "code",
   "execution_count": 76,
   "id": "ac489273-dab5-4c67-9def-69714450745a",
   "metadata": {},
   "outputs": [
    {
     "data": {
      "text/plain": [
       "genre\n",
       "Thrillers            65\n",
       "Documentaries       829\n",
       "Anime Features       21\n",
       "TV Shows             16\n",
       "British TV Shows    253\n",
       "Name: count, dtype: int64"
      ]
     },
     "execution_count": 76,
     "metadata": {},
     "output_type": "execute_result"
    }
   ],
   "source": [
    "df[\"genre\"].value_counts().sample(5)"
   ]
  },
  {
   "cell_type": "code",
   "execution_count": 89,
   "id": "bc9c0c0e-68b3-4e86-96b2-0cc905d7da46",
   "metadata": {},
   "outputs": [],
   "source": [
    "\n",
    "df = df[df[\"cast\"]!=\"Not Available\"]"
   ]
  },
  {
   "cell_type": "code",
   "execution_count": 90,
   "id": "c7b26a5e-ed49-4c80-b2ff-b4568414dc5a",
   "metadata": {},
   "outputs": [],
   "source": [
    "df[\"lead_actor\"] = df[\"cast\"].str.split(\",\").str[0]"
   ]
  },
  {
   "cell_type": "code",
   "execution_count": 91,
   "id": "c10ace64-c8ee-46e0-861a-59088648788f",
   "metadata": {},
   "outputs": [
    {
     "data": {
      "text/plain": [
       "lead_actor\n",
       "Shah Rukh Khan        26\n",
       "Akshay Kumar          23\n",
       "Amitabh Bachchan      20\n",
       "David Attenborough    20\n",
       "Adam Sandler          20\n",
       "Name: count, dtype: int64"
      ]
     },
     "execution_count": 91,
     "metadata": {},
     "output_type": "execute_result"
    }
   ],
   "source": [
    "df[\"lead_actor\"].value_counts().head(5)"
   ]
  },
  {
   "cell_type": "code",
   "execution_count": 92,
   "id": "de77395b-8445-41d3-a8de-1a2222125615",
   "metadata": {},
   "outputs": [
    {
     "data": {
      "text/html": [
       "<div>\n",
       "<style scoped>\n",
       "    .dataframe tbody tr th:only-of-type {\n",
       "        vertical-align: middle;\n",
       "    }\n",
       "\n",
       "    .dataframe tbody tr th {\n",
       "        vertical-align: top;\n",
       "    }\n",
       "\n",
       "    .dataframe thead th {\n",
       "        text-align: right;\n",
       "    }\n",
       "</style>\n",
       "<table border=\"1\" class=\"dataframe\">\n",
       "  <thead>\n",
       "    <tr style=\"text-align: right;\">\n",
       "      <th></th>\n",
       "      <th>type</th>\n",
       "      <th>title</th>\n",
       "      <th>director</th>\n",
       "      <th>cast</th>\n",
       "      <th>country</th>\n",
       "      <th>date_added</th>\n",
       "      <th>release_year</th>\n",
       "      <th>rating</th>\n",
       "      <th>duration</th>\n",
       "      <th>listed_in</th>\n",
       "      <th>Year</th>\n",
       "      <th>Month</th>\n",
       "      <th>Day</th>\n",
       "      <th>Genre</th>\n",
       "      <th>genre</th>\n",
       "      <th>lead_actor</th>\n",
       "    </tr>\n",
       "  </thead>\n",
       "  <tbody>\n",
       "    <tr>\n",
       "      <th>2886</th>\n",
       "      <td>Movie</td>\n",
       "      <td>Pete Davidson: Alive From New York</td>\n",
       "      <td>Jason Orley</td>\n",
       "      <td>Pete Davidson</td>\n",
       "      <td>United States</td>\n",
       "      <td>2020-02-25</td>\n",
       "      <td>2020</td>\n",
       "      <td>TV-MA</td>\n",
       "      <td>50 min</td>\n",
       "      <td>Stand-Up Comedy</td>\n",
       "      <td>2020</td>\n",
       "      <td>2</td>\n",
       "      <td>25</td>\n",
       "      <td>Stand-Up Comedy</td>\n",
       "      <td>Stand-Up Comedy</td>\n",
       "      <td>Pete Davidson</td>\n",
       "    </tr>\n",
       "    <tr>\n",
       "      <th>1452</th>\n",
       "      <td>Movie</td>\n",
       "      <td>Gimme Shelter</td>\n",
       "      <td>Ron Krauss</td>\n",
       "      <td>Vanessa Hudgens, James Earl Jones, Rosario Daw...</td>\n",
       "      <td>United States</td>\n",
       "      <td>2021-01-01</td>\n",
       "      <td>2013</td>\n",
       "      <td>PG-13</td>\n",
       "      <td>101 min</td>\n",
       "      <td>Dramas, Independent Movies</td>\n",
       "      <td>2021</td>\n",
       "      <td>1</td>\n",
       "      <td>1</td>\n",
       "      <td>Dramas</td>\n",
       "      <td>Dramas</td>\n",
       "      <td>Vanessa Hudgens</td>\n",
       "    </tr>\n",
       "    <tr>\n",
       "      <th>7</th>\n",
       "      <td>Movie</td>\n",
       "      <td>Sankofa</td>\n",
       "      <td>Haile Gerima</td>\n",
       "      <td>Kofi Ghanaba, Oyafunmike Ogunlano, Alexandra D...</td>\n",
       "      <td>United States, Ghana, Burkina Faso, United Kin...</td>\n",
       "      <td>2021-09-24</td>\n",
       "      <td>1993</td>\n",
       "      <td>TV-MA</td>\n",
       "      <td>125 min</td>\n",
       "      <td>Dramas, Independent Movies, International Movies</td>\n",
       "      <td>2021</td>\n",
       "      <td>9</td>\n",
       "      <td>24</td>\n",
       "      <td>Dramas</td>\n",
       "      <td>Dramas</td>\n",
       "      <td>Kofi Ghanaba</td>\n",
       "    </tr>\n",
       "    <tr>\n",
       "      <th>4121</th>\n",
       "      <td>Movie</td>\n",
       "      <td>Kevin Hart's Guide to Black History</td>\n",
       "      <td>Tom Stern</td>\n",
       "      <td>Kevin Hart, Saniyya Sidney, Lil Rel Howery, Eo...</td>\n",
       "      <td>United States</td>\n",
       "      <td>2019-02-08</td>\n",
       "      <td>2019</td>\n",
       "      <td>TV-PG</td>\n",
       "      <td>63 min</td>\n",
       "      <td>Children &amp; Family Movies, Comedies</td>\n",
       "      <td>2019</td>\n",
       "      <td>2</td>\n",
       "      <td>8</td>\n",
       "      <td>Children &amp; Family Movies</td>\n",
       "      <td>Children &amp; Family Movies</td>\n",
       "      <td>Kevin Hart</td>\n",
       "    </tr>\n",
       "    <tr>\n",
       "      <th>3528</th>\n",
       "      <td>Movie</td>\n",
       "      <td>Bill Burr: Paper Tiger</td>\n",
       "      <td>Mike Binder</td>\n",
       "      <td>Bill Burr</td>\n",
       "      <td>United States, United Kingdom</td>\n",
       "      <td>2019-09-10</td>\n",
       "      <td>2019</td>\n",
       "      <td>TV-MA</td>\n",
       "      <td>67 min</td>\n",
       "      <td>Stand-Up Comedy</td>\n",
       "      <td>2019</td>\n",
       "      <td>9</td>\n",
       "      <td>10</td>\n",
       "      <td>Stand-Up Comedy</td>\n",
       "      <td>Stand-Up Comedy</td>\n",
       "      <td>Bill Burr</td>\n",
       "    </tr>\n",
       "  </tbody>\n",
       "</table>\n",
       "</div>"
      ],
      "text/plain": [
       "       type                                title      director  \\\n",
       "2886  Movie   Pete Davidson: Alive From New York   Jason Orley   \n",
       "1452  Movie                        Gimme Shelter    Ron Krauss   \n",
       "7     Movie                              Sankofa  Haile Gerima   \n",
       "4121  Movie  Kevin Hart's Guide to Black History     Tom Stern   \n",
       "3528  Movie               Bill Burr: Paper Tiger   Mike Binder   \n",
       "\n",
       "                                                   cast  \\\n",
       "2886                                      Pete Davidson   \n",
       "1452  Vanessa Hudgens, James Earl Jones, Rosario Daw...   \n",
       "7     Kofi Ghanaba, Oyafunmike Ogunlano, Alexandra D...   \n",
       "4121  Kevin Hart, Saniyya Sidney, Lil Rel Howery, Eo...   \n",
       "3528                                          Bill Burr   \n",
       "\n",
       "                                                country date_added  \\\n",
       "2886                                      United States 2020-02-25   \n",
       "1452                                      United States 2021-01-01   \n",
       "7     United States, Ghana, Burkina Faso, United Kin... 2021-09-24   \n",
       "4121                                      United States 2019-02-08   \n",
       "3528                      United States, United Kingdom 2019-09-10   \n",
       "\n",
       "      release_year rating duration  \\\n",
       "2886          2020  TV-MA   50 min   \n",
       "1452          2013  PG-13  101 min   \n",
       "7             1993  TV-MA  125 min   \n",
       "4121          2019  TV-PG   63 min   \n",
       "3528          2019  TV-MA   67 min   \n",
       "\n",
       "                                             listed_in  Year  Month  Day  \\\n",
       "2886                                   Stand-Up Comedy  2020      2   25   \n",
       "1452                        Dramas, Independent Movies  2021      1    1   \n",
       "7     Dramas, Independent Movies, International Movies  2021      9   24   \n",
       "4121                Children & Family Movies, Comedies  2019      2    8   \n",
       "3528                                   Stand-Up Comedy  2019      9   10   \n",
       "\n",
       "                         Genre                     genre       lead_actor  \n",
       "2886           Stand-Up Comedy           Stand-Up Comedy    Pete Davidson  \n",
       "1452                    Dramas                    Dramas  Vanessa Hudgens  \n",
       "7                       Dramas                    Dramas     Kofi Ghanaba  \n",
       "4121  Children & Family Movies  Children & Family Movies       Kevin Hart  \n",
       "3528           Stand-Up Comedy           Stand-Up Comedy        Bill Burr  "
      ]
     },
     "execution_count": 92,
     "metadata": {},
     "output_type": "execute_result"
    }
   ],
   "source": [
    "df.sample(5)"
   ]
  },
  {
   "cell_type": "code",
   "execution_count": 96,
   "id": "1458a6ec-cd6a-40bc-86f0-5aa237663e02",
   "metadata": {},
   "outputs": [],
   "source": [
    "df.drop([\"date_added\", \"listed_in\", \"cast\", \"Genre\"], axis=1, inplace = True)"
   ]
  },
  {
   "cell_type": "code",
   "execution_count": 97,
   "id": "10d5da2f-4f82-407d-a4fd-919823209993",
   "metadata": {},
   "outputs": [
    {
     "data": {
      "text/html": [
       "<div>\n",
       "<style scoped>\n",
       "    .dataframe tbody tr th:only-of-type {\n",
       "        vertical-align: middle;\n",
       "    }\n",
       "\n",
       "    .dataframe tbody tr th {\n",
       "        vertical-align: top;\n",
       "    }\n",
       "\n",
       "    .dataframe thead th {\n",
       "        text-align: right;\n",
       "    }\n",
       "</style>\n",
       "<table border=\"1\" class=\"dataframe\">\n",
       "  <thead>\n",
       "    <tr style=\"text-align: right;\">\n",
       "      <th></th>\n",
       "      <th>type</th>\n",
       "      <th>title</th>\n",
       "      <th>director</th>\n",
       "      <th>country</th>\n",
       "      <th>release_year</th>\n",
       "      <th>rating</th>\n",
       "      <th>duration</th>\n",
       "      <th>Year</th>\n",
       "      <th>Month</th>\n",
       "      <th>Day</th>\n",
       "      <th>genre</th>\n",
       "      <th>lead_actor</th>\n",
       "    </tr>\n",
       "  </thead>\n",
       "  <tbody>\n",
       "    <tr>\n",
       "      <th>5017</th>\n",
       "      <td>Movie</td>\n",
       "      <td>Trailer Park Boys Live In F**kin' Dublin</td>\n",
       "      <td>Mike Smith, John Paul Tremblay, Robb Wells</td>\n",
       "      <td>Canada</td>\n",
       "      <td>2014</td>\n",
       "      <td>TV-MA</td>\n",
       "      <td>81 min</td>\n",
       "      <td>2018</td>\n",
       "      <td>3</td>\n",
       "      <td>1</td>\n",
       "      <td>Movies</td>\n",
       "      <td>Mike Smith</td>\n",
       "    </tr>\n",
       "    <tr>\n",
       "      <th>3554</th>\n",
       "      <td>Movie</td>\n",
       "      <td>Unbridled</td>\n",
       "      <td>Jota Linares</td>\n",
       "      <td>Spain</td>\n",
       "      <td>2018</td>\n",
       "      <td>TV-MA</td>\n",
       "      <td>100 min</td>\n",
       "      <td>2019</td>\n",
       "      <td>8</td>\n",
       "      <td>30</td>\n",
       "      <td>International Movies</td>\n",
       "      <td>Natalia de Molina</td>\n",
       "    </tr>\n",
       "    <tr>\n",
       "      <th>4079</th>\n",
       "      <td>TV Show</td>\n",
       "      <td>Unsolved</td>\n",
       "      <td>Not Available</td>\n",
       "      <td>United States</td>\n",
       "      <td>2018</td>\n",
       "      <td>TV-MA</td>\n",
       "      <td>1 Season</td>\n",
       "      <td>2019</td>\n",
       "      <td>2</td>\n",
       "      <td>27</td>\n",
       "      <td>Crime TV Shows</td>\n",
       "      <td>Josh Duhamel</td>\n",
       "    </tr>\n",
       "    <tr>\n",
       "      <th>742</th>\n",
       "      <td>Movie</td>\n",
       "      <td>Camellia Sisters</td>\n",
       "      <td>Bao Nhan, Namcito</td>\n",
       "      <td>Vietnam</td>\n",
       "      <td>2021</td>\n",
       "      <td>TV-MA</td>\n",
       "      <td>117 min</td>\n",
       "      <td>2021</td>\n",
       "      <td>6</td>\n",
       "      <td>10</td>\n",
       "      <td>Dramas</td>\n",
       "      <td>Le Khanh</td>\n",
       "    </tr>\n",
       "    <tr>\n",
       "      <th>3381</th>\n",
       "      <td>TV Show</td>\n",
       "      <td>The Untamed</td>\n",
       "      <td>Not Available</td>\n",
       "      <td>China</td>\n",
       "      <td>2019</td>\n",
       "      <td>TV-14</td>\n",
       "      <td>1 Season</td>\n",
       "      <td>2019</td>\n",
       "      <td>10</td>\n",
       "      <td>25</td>\n",
       "      <td>International TV Shows</td>\n",
       "      <td>Sean Xiao</td>\n",
       "    </tr>\n",
       "  </tbody>\n",
       "</table>\n",
       "</div>"
      ],
      "text/plain": [
       "         type                                     title  \\\n",
       "5017    Movie  Trailer Park Boys Live In F**kin' Dublin   \n",
       "3554    Movie                                 Unbridled   \n",
       "4079  TV Show                                  Unsolved   \n",
       "742     Movie                          Camellia Sisters   \n",
       "3381  TV Show                               The Untamed   \n",
       "\n",
       "                                        director        country  release_year  \\\n",
       "5017  Mike Smith, John Paul Tremblay, Robb Wells         Canada          2014   \n",
       "3554                                Jota Linares          Spain          2018   \n",
       "4079                               Not Available  United States          2018   \n",
       "742                            Bao Nhan, Namcito        Vietnam          2021   \n",
       "3381                               Not Available          China          2019   \n",
       "\n",
       "     rating  duration  Year  Month  Day                   genre  \\\n",
       "5017  TV-MA    81 min  2018      3    1                  Movies   \n",
       "3554  TV-MA   100 min  2019      8   30    International Movies   \n",
       "4079  TV-MA  1 Season  2019      2   27          Crime TV Shows   \n",
       "742   TV-MA   117 min  2021      6   10                  Dramas   \n",
       "3381  TV-14  1 Season  2019     10   25  International TV Shows   \n",
       "\n",
       "             lead_actor  \n",
       "5017         Mike Smith  \n",
       "3554  Natalia de Molina  \n",
       "4079       Josh Duhamel  \n",
       "742            Le Khanh  \n",
       "3381          Sean Xiao  "
      ]
     },
     "execution_count": 97,
     "metadata": {},
     "output_type": "execute_result"
    }
   ],
   "source": [
    "df.sample(5)"
   ]
  },
  {
   "cell_type": "code",
   "execution_count": 98,
   "id": "4bdc23ee-77ba-42fc-8d1e-e3b54fd8d113",
   "metadata": {},
   "outputs": [],
   "source": [
    "df.to_csv(\"transformed_data.csv\")"
   ]
  },
  {
   "cell_type": "code",
   "execution_count": null,
   "id": "ff6f6943-e1c2-4145-a73d-f1a56bdc24e1",
   "metadata": {},
   "outputs": [],
   "source": []
  }
 ],
 "metadata": {
  "kernelspec": {
   "display_name": "Python 3 (ipykernel)",
   "language": "python",
   "name": "python3"
  },
  "language_info": {
   "codemirror_mode": {
    "name": "ipython",
    "version": 3
   },
   "file_extension": ".py",
   "mimetype": "text/x-python",
   "name": "python",
   "nbconvert_exporter": "python",
   "pygments_lexer": "ipython3",
   "version": "3.13.5"
  }
 },
 "nbformat": 4,
 "nbformat_minor": 5
}
